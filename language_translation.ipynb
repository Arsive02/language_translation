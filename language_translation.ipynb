{
 "cells": [
  {
   "cell_type": "code",
   "execution_count": 1,
   "metadata": {},
   "outputs": [
    {
     "name": "stderr",
     "output_type": "stream",
     "text": [
      "c:\\Users\\sivap\\miniconda3\\envs\\dl\\Lib\\site-packages\\tqdm\\auto.py:21: TqdmWarning: IProgress not found. Please update jupyter and ipywidgets. See https://ipywidgets.readthedocs.io/en/stable/user_install.html\n",
      "  from .autonotebook import tqdm as notebook_tqdm\n",
      "c:\\Users\\sivap\\miniconda3\\envs\\dl\\Lib\\site-packages\\transformers\\models\\marian\\tokenization_marian.py:175: UserWarning: Recommended: pip install sacremoses.\n",
      "  warnings.warn(\"Recommended: pip install sacremoses.\")\n"
     ]
    }
   ],
   "source": [
    "from transformers import AutoTokenizer, AutoModelForSeq2SeqLM\n",
    "\n",
    "tokenizer = AutoTokenizer.from_pretrained(\"Helsinki-NLP/opus-mt-en-dra\")\n",
    "model = AutoModelForSeq2SeqLM.from_pretrained(\"Helsinki-NLP/opus-mt-en-dra\")"
   ]
  },
  {
   "cell_type": "code",
   "execution_count": 1,
   "metadata": {},
   "outputs": [
    {
     "name": "stderr",
     "output_type": "stream",
     "text": [
      "c:\\Users\\sivap\\miniconda3\\envs\\dl\\Lib\\site-packages\\tqdm\\auto.py:21: TqdmWarning: IProgress not found. Please update jupyter and ipywidgets. See https://ipywidgets.readthedocs.io/en/stable/user_install.html\n",
      "  from .autonotebook import tqdm as notebook_tqdm\n",
      "c:\\Users\\sivap\\miniconda3\\envs\\dl\\Lib\\site-packages\\huggingface_hub\\file_download.py:140: UserWarning: `huggingface_hub` cache-system uses symlinks by default to efficiently store duplicated files but your machine does not support them in C:\\Users\\sivap\\.cache\\huggingface\\hub\\models--vikp--surya_det3. Caching files will still work but in a degraded version that might require more space on your disk. This warning can be disabled by setting the `HF_HUB_DISABLE_SYMLINKS_WARNING` environment variable. For more details, see https://huggingface.co/docs/huggingface_hub/how-to-cache#limitations.\n",
      "To support symlinks on Windows, you either need to activate Developer Mode or to run Python as an administrator. In order to activate developer mode, see this article: https://docs.microsoft.com/en-us/windows/apps/get-started/enable-your-device-for-development\n",
      "  warnings.warn(message)\n"
     ]
    },
    {
     "name": "stdout",
     "output_type": "stream",
     "text": [
      "Loaded detection model vikp/surya_det3 on device cuda with dtype torch.float16\n"
     ]
    },
    {
     "name": "stderr",
     "output_type": "stream",
     "text": [
      "c:\\Users\\sivap\\miniconda3\\envs\\dl\\Lib\\site-packages\\huggingface_hub\\file_download.py:140: UserWarning: `huggingface_hub` cache-system uses symlinks by default to efficiently store duplicated files but your machine does not support them in C:\\Users\\sivap\\.cache\\huggingface\\hub\\models--vikp--surya_rec2. Caching files will still work but in a degraded version that might require more space on your disk. This warning can be disabled by setting the `HF_HUB_DISABLE_SYMLINKS_WARNING` environment variable. For more details, see https://huggingface.co/docs/huggingface_hub/how-to-cache#limitations.\n",
      "To support symlinks on Windows, you either need to activate Developer Mode or to run Python as an administrator. In order to activate developer mode, see this article: https://docs.microsoft.com/en-us/windows/apps/get-started/enable-your-device-for-development\n",
      "  warnings.warn(message)\n"
     ]
    },
    {
     "name": "stdout",
     "output_type": "stream",
     "text": [
      "Loaded recognition model vikp/surya_rec2 on device cuda with dtype torch.float16\n"
     ]
    },
    {
     "name": "stderr",
     "output_type": "stream",
     "text": [
      "Detecting bboxes: 100%|██████████| 1/1 [00:01<00:00,  1.73s/it]\n",
      "Recognizing Text: 100%|██████████| 1/1 [00:02<00:00,  2.06s/it]\n"
     ]
    }
   ],
   "source": [
    "from PIL import Image\n",
    "from surya.ocr import run_ocr\n",
    "from surya.model.detection.model import load_model as load_det_model, load_processor as load_det_processor\n",
    "from surya.model.recognition.model import load_model as load_rec_model\n",
    "from surya.model.recognition.processor import load_processor as load_rec_processor\n",
    "\n",
    "image = Image.open(\"data/IMG-20250117-WA0025.jpg\")\n",
    "langs = [\"en\"] # Replace with your languages - optional but recommended\n",
    "det_processor, det_model = load_det_processor(), load_det_model()\n",
    "rec_model, rec_processor = load_rec_model(), load_rec_processor()\n"
   ]
  },
  {
   "cell_type": "code",
   "execution_count": null,
   "metadata": {},
   "outputs": [],
   "source": [
    "\n",
    "predictions = run_ocr([image], [langs], det_model, det_processor, rec_model, rec_processor)\n"
   ]
  },
  {
   "cell_type": "code",
   "execution_count": 2,
   "metadata": {},
   "outputs": [
    {
     "name": "stdout",
     "output_type": "stream",
     "text": [
      "[OCRResult(text_lines=[TextLine(polygon=[[253.0, 498.0], [803.0, 516.0], [802.0, 566.0], [251.0, 548.0]], confidence=0.98779296875, text='Félix González-Torres', bbox=[253.0, 498.0, 803.0, 566.0]), TextLine(polygon=[[255.0, 564.0], [749.0, 577.0], [748.0, 610.0], [254.0, 597.0]], confidence=0.982421875, text='Guáimaro, Cuba, 1957-1996,', bbox=[255.0, 564.0, 749.0, 610.0]), TextLine(polygon=[[254.0, 610.0], [501.0, 617.0], [500.0, 651.0], [253.0, 643.0]], confidence=0.97705078125, text='Miami, Florida', bbox=[254.0, 610.0, 501.0, 651.0]), TextLine(polygon=[[253.0, 660.0], [459.0, 665.0], [458.0, 710.0], [252.0, 706.0]], confidence=0.97802734375, text='Untitled', bbox=[253.0, 660.0, 459.0, 710.0]), TextLine(polygon=[[254.0, 725.0], [802.0, 729.0], [801.0, 761.0], [253.0, 757.0]], confidence=0.98779296875, text='From the portfolio Printed Matter', bbox=[254.0, 725.0, 802.0, 761.0]), TextLine(polygon=[[253.0, 771.0], [797.0, 774.0], [796.0, 805.0], [252.0, 802.0]], confidence=0.9873046875, text='Photography Portfolio I: Portraits', bbox=[253.0, 771.0, 797.0, 805.0]), TextLine(polygon=[[254.0, 812.0], [329.0, 812.0], [329.0, 838.0], [254.0, 838.0]], confidence=0.955078125, text='1994', bbox=[254.0, 812.0, 329.0, 838.0]), TextLine(polygon=[[253.0, 849.0], [503.0, 846.0], [504.0, 875.0], [254.0, 878.0]], confidence=0.99169921875, text='Cibachrome print', bbox=[253.0, 849.0, 503.0, 875.0]), TextLine(polygon=[[252.0, 912.0], [827.0, 909.0], [828.0, 934.0], [253.0, 937.0]], confidence=0.99951171875, text='Museum purchase with the Carnegie Fund, 95.05.07', bbox=[252.0, 912.0, 827.0, 934.0]), TextLine(polygon=[[250.0, 983.0], [885.0, 977.0], [886.0, 1005.0], [251.0, 1011.0]], confidence=0.99365234375, text='Félix González-Torres frequented flea markets', bbox=[250.0, 983.0, 885.0, 1005.0]), TextLine(polygon=[[250.0, 1027.0], [872.0, 1017.0], [873.0, 1045.0], [251.0, 1055.0]], confidence=0.9970703125, text='where he purchased hundreds of toys. In this', bbox=[250.0, 1027.0, 872.0, 1045.0]), TextLine(polygon=[[250.0, 1068.0], [905.0, 1057.0], [906.0, 1086.0], [251.0, 1097.0]], confidence=0.99853515625, text='photograph, he nestled two toys together under', bbox=[250.0, 1068.0, 905.0, 1086.0]), TextLine(polygon=[[250.0, 1111.0], [873.0, 1098.0], [874.0, 1126.0], [251.0, 1139.0]], confidence=0.99755859375, text='the covers, perhaps standing in for González-', bbox=[250.0, 1111.0, 873.0, 1126.0]), TextLine(polygon=[[251.0, 1154.0], [888.0, 1137.0], [889.0, 1166.0], [252.0, 1183.0]], confidence=0.99609375, text='Torres and his partner Ross Laycock who died', bbox=[251.0, 1154.0, 888.0, 1166.0]), TextLine(polygon=[[250.0, 1194.0], [841.0, 1179.0], [842.0, 1209.0], [251.0, 1223.0]], confidence=0.9912109375, text='from HIV-related complications in 1991. By', bbox=[250.0, 1194.0, 841.0, 1209.0]), TextLine(polygon=[[252.0, 1238.0], [870.0, 1219.0], [871.0, 1247.0], [253.0, 1266.0]], confidence=0.99951171875, text='situating the scene in the private space of the', bbox=[252.0, 1238.0, 870.0, 1247.0]), TextLine(polygon=[[251.0, 1278.0], [883.0, 1257.0], [884.0, 1286.0], [252.0, 1307.0]], confidence=0.99560546875, text='bedroom, González-Torres creates a feeling of', bbox=[251.0, 1278.0, 883.0, 1286.0]), TextLine(polygon=[[251.0, 1318.0], [832.0, 1299.0], [833.0, 1328.0], [252.0, 1347.0]], confidence=0.9931640625, text=\"intimacy, further suggested by the image's\", bbox=[251.0, 1318.0, 832.0, 1328.0]), TextLine(polygon=[[250.0, 1361.0], [768.0, 1338.0], [769.0, 1368.0], [251.0, 1390.0]], confidence=0.99072265625, text='family photo-album format. This quiet', bbox=[250.0, 1361.0, 768.0, 1368.0]), TextLine(polygon=[[252.0, 1402.0], [900.0, 1372.0], [902.0, 1401.0], [253.0, 1431.0]], confidence=1.0, text='photograph translates the cultural experience of', bbox=[252.0, 1401.0, 900.0, 1402.0]), TextLine(polygon=[[250.0, 1443.0], [854.0, 1413.0], [855.0, 1442.0], [251.0, 1472.0]], confidence=0.99560546875, text='the AIDS epidemic into a personal reckoning', bbox=[250.0, 1442.0, 854.0, 1443.0]), TextLine(polygon=[[251.0, 1484.0], [816.0, 1455.0], [818.0, 1484.0], [253.0, 1513.0]], confidence=0.9921875, text='with loss by creating an imagined reunion', bbox=[251.0, 1484.0, 816.0, 1484.0]), TextLine(polygon=[[251.0, 1524.0], [766.0, 1496.0], [768.0, 1525.0], [253.0, 1554.0]], confidence=0.9833984375, text='between lovers torn apart by disease.', bbox=[251.0, 1524.0, 766.0, 1525.0])], languages=['en'], image_bbox=[0.0, 0.0, 1200.0, 1600.0])]\n"
     ]
    }
   ],
   "source": [
    "print(predictions)\n"
   ]
  },
  {
   "cell_type": "code",
   "execution_count": 2,
   "metadata": {},
   "outputs": [],
   "source": [
    "def translate(text):\n",
    "    inputs = tokenizer(text, return_tensors=\"pt\")\n",
    "    outputs = model.generate(**inputs)\n",
    "    return tokenizer.decode(outputs[0], skip_special_tokens=True)"
   ]
  },
  {
   "cell_type": "code",
   "execution_count": 3,
   "metadata": {},
   "outputs": [],
   "source": [
    "import json\n",
    "\n",
    "with open('annotations/cu_art_museum.json') as f:\n",
    "    data = json.load(f)\n"
   ]
  },
  {
   "cell_type": "code",
   "execution_count": 7,
   "metadata": {},
   "outputs": [
    {
     "name": "stdout",
     "output_type": "stream",
     "text": [
      "மு. 800- 701 -⁠ ன் பிற்பகுதியில், மத்தியதரைக் கடல் கலாச்சாரங்கள் நாணயத்தின் நாணயத்தை உருவாக்கியது. விரைவில், நாணயங்கள் பரவலாகப் பயன்படுத்தப்பட்டு (கிரேக்கில் நகர - பகுதிகள்) இன்னும் பல இடங்களில் (கிரேக்கு - நகரப் பகுதிகள்) மாற்றப்பட்டது. சில சில சில திரைப்படங்களை பயன்படுத்துகின்றன. மற்றவை, கலைஞர்களின் மற்றும் காதலர்களின் விருப்பங்களை பொருத்து மற்றவை மாற்றுகின்றன. இந்த காட்சி, பழமையான நாணய நாணயத்தின் தனித்தன்மையை விளக்கிக் காட்டும், நமக்கு ஒரு தனிப்பட்ட நாணய நாணயத்தை அளிக்கின்றது.\n",
      "---\n"
     ]
    }
   ],
   "source": [
    "lang = \">>tam<<\"\n",
    "for i in data:\n",
    "    i['local_translation'] = translate(lang + i['English'])\n",
    "    print(i['local_translation'])\n",
    "    print('---')"
   ]
  },
  {
   "cell_type": "code",
   "execution_count": 29,
   "metadata": {},
   "outputs": [
    {
     "data": {
      "text/plain": [
       "[{'id': '1',\n",
       "  'English': \"GREEK EYES ON US\\nAround the late eighth century B.C.E. (800-701), Mediterranean cultures developed coinage. Soon after, coins were widely used and minted in as many as 700 independent poleis (Greek city-states). Some poleis used specific imagery, while others embraced variable designs depending on artists' and patrons' whimsy.\\nThis exhibit of 10 silver coins illustrates an especially engaging characteristic of ancient Greek coinage, eyes looking toward us, a direct personal connection infrequent in coinage of any era. It is delightful to return the gaze!\\nGreek Eyes on Us was curated by John Nebel, who has supported this exhibition with his expertise and generosity.\",\n",
       "  'Tamil': \"கிரேக்க கண்கள் நம் மீது\\nகி.மு. எட்டாம் நூற்றாண்டின் பிற்பகுதியில் (800-701), மத்தியதரைக் கடல் கலாச்சாரங்கள் நாணயங்களை உருவாக்கின. விரைவில், 700க்கும் மேற்பட்ட சுயாதீன பொலிஸ்களில் (கிரேக்க நகர-நாடுகள்) நாணயங்கள் பரவலாகப் பயன்படுத்தப்பட்டு அச்சடிக்கப்பட்டன. சில பொலிஸ்கள் குறிப்பிட்ட படிமங்களைப் பயன்படுத்தின, மற்றவை கலைஞர்கள் மற்றும் ஆதரவாளர்களின் விருப்பத்திற்கேற்ப மாறுபட்ட வடிவமைப்புகளை ஏற்றுக்கொண்டன.\\n10 வெள்ளி நாணயங்களின் இந்தக் காட்சி, பண்டைய கிரேக்க நாணயத்தின் சிறப்பாக ஈர்க்கும் ஒரு பண்பை விளக்குகிறது - நம்மை நோக்கிப் பார்க்கும் கண்கள், எந்தக் காலத்திலும் நாணயங்களில் அரிதாகக் காணப்படும் ஒரு நேரடி தனிப்பட்ட இணைப்பு. அந்தப் பார்வையை திருப்பிக் கொடுப்பது மகிழ்ச்சியளிக்கிறது!\\n'கிரேக்க கண்கள் நம் மீது' என்ற இந்தக் காட்சி ஜான் நெபெல் அவர்களால் கியூரேட் செய்யப்பட்டது. அவர் தனது நிபுணத்துவம் மற்றும் தாராள மனப்பான்மையுடன் இந்தக் கண்காட்சிக்கு ஆதரவளித்துள்ளார்.\",\n",
       "  'local_translation': '>>tam<<పూ. 800- 701 మధ్యధరా సంస్కృతులు నాణెము నినాదాలు అభివృద్ధి చెందాయి. త్వరలోనే, నాణులు విస్తృతంగా ఉపయోగించబడి, పునర్నిర్మాణింపబడ్డాయి కొన్ని నిర్దిష్టమైన చిత్రీకరణలు ఉపయోగించబడ్డాయి. మరితరులు చిత్రకారులు మరియు శ్రేణుల అభిరుచికి సంబంధించిన అభివృద్దికి అనుగుణంగా చిత్రీకరించారు. ఈ ప్రదర్శన ప్రాచీన గ్రీకు నాణి యొక్క ఒక ప్రత్యేకతను ఉదాహరించుతుంది, మనవైపు దృష్టిని ఆకర్షిస్తుంది. ఇది గ్రీక్ నాణీయ నాణాలవైపు దృష్టిని ఆకర్షిస్తుంది.'}]"
      ]
     },
     "execution_count": 29,
     "metadata": {},
     "output_type": "execute_result"
    }
   ],
   "source": [
    "data"
   ]
  },
  {
   "cell_type": "code",
   "execution_count": null,
   "metadata": {},
   "outputs": [],
   "source": []
  }
 ],
 "metadata": {
  "kernelspec": {
   "display_name": "Python 3",
   "language": "python",
   "name": "python3"
  },
  "language_info": {
   "codemirror_mode": {
    "name": "ipython",
    "version": 3
   },
   "file_extension": ".py",
   "mimetype": "text/x-python",
   "name": "python",
   "nbconvert_exporter": "python",
   "pygments_lexer": "ipython3",
   "version": "3.11.11"
  }
 },
 "nbformat": 4,
 "nbformat_minor": 2
}
